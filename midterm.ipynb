{
 "cells": [
  {
   "attachments": {},
   "cell_type": "markdown",
   "metadata": {},
   "source": [
    "比賽簡介：\n",
    "泰坦尼克號宇宙飛船是一個月前發射的星際客輪。 這艘船載有近 13,000 名乘客，開始了它的處女航，將移民從我們的太陽系運送到圍繞附近恆星運行的三個新宜居系外行星。\n",
    "在繞過半人馬座阿爾法星前往其第一個目的地——炎熱的巨蟹座 55 E 的途中，粗心的宇宙飛船泰坦尼克號與隱藏在塵埃雲中的時空異常相撞。 可悲的是，它遭遇了與 1000 年前同名的類似命運。 雖然這艘船完好無損，但幾乎一半的乘客都被傳送到了異次元！\n",
    "為了幫助救援人員和找回失踪的乘客，您面臨的挑戰是使用從飛船損壞的計算機系統中恢復的記錄來預測哪些乘客被異常運送。\n",
    "\n",
    "為何選擇這個比賽：\n",
    "在課程中，老師有教過鐵達尼號生存預測，而這項比賽恰好是其延伸，故除了能鞏固上課所學，也能延伸其應用\n",
    "\n",
    "資料集、目標介紹\n",
    "train.csv - 大約三分之二 (~8700) 乘客的個人記錄，用作訓練數據。\n",
    "test.csv - 其餘三分之一 (~4300) 乘客的個人記錄，用作測試數據。\n",
    "目標是預測此集合中乘客的 Transported 值。\n",
    "sample_submission.csv - 格式正確的提交文件。\n"
   ]
  },
  {
   "attachments": {},
   "cell_type": "markdown",
   "metadata": {},
   "source": [
    "實作內容：\n",
    "將整個模組建議在上課所學的鐵達能號生存預測之上，並在圖表上繪製兩變數相關之函數。\n",
    "在年齡補缺失資料時，我嘗試找尋Age與Transported之關係，分為藍色及紅色柱狀圖\n",
    "在機器訓練時，有參考別人寫好的程式碼，並從中學到膜性訓練及測試的方式\n"
   ]
  },
  {
   "attachments": {},
   "cell_type": "markdown",
   "metadata": {},
   "source": [
    "import modules\n"
   ]
  },
  {
   "cell_type": "code",
   "execution_count": 2,
   "metadata": {},
   "outputs": [],
   "source": [
    "import pandas as pd\n",
    "import numpy as np\n",
    "import matplotlib.pyplot as plt"
   ]
  },
  {
   "attachments": {},
   "cell_type": "markdown",
   "metadata": {},
   "source": [
    "%matplotlib inline"
   ]
  },
  {
   "cell_type": "code",
   "execution_count": 3,
   "metadata": {},
   "outputs": [],
   "source": [
    "import seaborn as sns\n"
   ]
  },
  {
   "attachments": {},
   "cell_type": "markdown",
   "metadata": {},
   "source": [
    "載入資料集並查看"
   ]
  },
  {
   "cell_type": "code",
   "execution_count": 4,
   "metadata": {},
   "outputs": [
    {
     "name": "stdout",
     "output_type": "stream",
     "text": [
      "<class 'pandas.core.frame.DataFrame'>\n",
      "RangeIndex: 8693 entries, 0 to 8692\n",
      "Data columns (total 14 columns):\n",
      " #   Column        Non-Null Count  Dtype  \n",
      "---  ------        --------------  -----  \n",
      " 0   PassengerId   8693 non-null   object \n",
      " 1   HomePlanet    8492 non-null   object \n",
      " 2   CryoSleep     8476 non-null   object \n",
      " 3   Cabin         8494 non-null   object \n",
      " 4   Destination   8511 non-null   object \n",
      " 5   Age           8514 non-null   float64\n",
      " 6   VIP           8490 non-null   object \n",
      " 7   RoomService   8512 non-null   float64\n",
      " 8   FoodCourt     8510 non-null   float64\n",
      " 9   ShoppingMall  8485 non-null   float64\n",
      " 10  Spa           8510 non-null   float64\n",
      " 11  VRDeck        8505 non-null   float64\n",
      " 12  Name          8493 non-null   object \n",
      " 13  Transported   8693 non-null   bool   \n",
      "dtypes: bool(1), float64(6), object(7)\n",
      "memory usage: 891.5+ KB\n"
     ]
    }
   ],
   "source": [
    "df=pd.read_csv(\"train.csv\")\n",
    "df.head()\n",
    "df.info()"
   ]
  },
  {
   "attachments": {},
   "cell_type": "markdown",
   "metadata": {},
   "source": [
    "去除不需要的部分並確認表格長相"
   ]
  },
  {
   "cell_type": "code",
   "execution_count": 5,
   "metadata": {},
   "outputs": [
    {
     "data": {
      "text/html": [
       "<div>\n",
       "<style scoped>\n",
       "    .dataframe tbody tr th:only-of-type {\n",
       "        vertical-align: middle;\n",
       "    }\n",
       "\n",
       "    .dataframe tbody tr th {\n",
       "        vertical-align: top;\n",
       "    }\n",
       "\n",
       "    .dataframe thead th {\n",
       "        text-align: right;\n",
       "    }\n",
       "</style>\n",
       "<table border=\"1\" class=\"dataframe\">\n",
       "  <thead>\n",
       "    <tr style=\"text-align: right;\">\n",
       "      <th></th>\n",
       "      <th>HomePlanet</th>\n",
       "      <th>CryoSleep</th>\n",
       "      <th>Cabin</th>\n",
       "      <th>Destination</th>\n",
       "      <th>Age</th>\n",
       "      <th>VIP</th>\n",
       "      <th>RoomService</th>\n",
       "      <th>FoodCourt</th>\n",
       "      <th>ShoppingMall</th>\n",
       "      <th>Spa</th>\n",
       "      <th>VRDeck</th>\n",
       "      <th>Transported</th>\n",
       "    </tr>\n",
       "  </thead>\n",
       "  <tbody>\n",
       "    <tr>\n",
       "      <th>0</th>\n",
       "      <td>Europa</td>\n",
       "      <td>False</td>\n",
       "      <td>B/0/P</td>\n",
       "      <td>TRAPPIST-1e</td>\n",
       "      <td>39.0</td>\n",
       "      <td>False</td>\n",
       "      <td>0.0</td>\n",
       "      <td>0.0</td>\n",
       "      <td>0.0</td>\n",
       "      <td>0.0</td>\n",
       "      <td>0.0</td>\n",
       "      <td>False</td>\n",
       "    </tr>\n",
       "    <tr>\n",
       "      <th>1</th>\n",
       "      <td>Earth</td>\n",
       "      <td>False</td>\n",
       "      <td>F/0/S</td>\n",
       "      <td>TRAPPIST-1e</td>\n",
       "      <td>24.0</td>\n",
       "      <td>False</td>\n",
       "      <td>109.0</td>\n",
       "      <td>9.0</td>\n",
       "      <td>25.0</td>\n",
       "      <td>549.0</td>\n",
       "      <td>44.0</td>\n",
       "      <td>True</td>\n",
       "    </tr>\n",
       "    <tr>\n",
       "      <th>2</th>\n",
       "      <td>Europa</td>\n",
       "      <td>False</td>\n",
       "      <td>A/0/S</td>\n",
       "      <td>TRAPPIST-1e</td>\n",
       "      <td>58.0</td>\n",
       "      <td>True</td>\n",
       "      <td>43.0</td>\n",
       "      <td>3576.0</td>\n",
       "      <td>0.0</td>\n",
       "      <td>6715.0</td>\n",
       "      <td>49.0</td>\n",
       "      <td>False</td>\n",
       "    </tr>\n",
       "    <tr>\n",
       "      <th>3</th>\n",
       "      <td>Europa</td>\n",
       "      <td>False</td>\n",
       "      <td>A/0/S</td>\n",
       "      <td>TRAPPIST-1e</td>\n",
       "      <td>33.0</td>\n",
       "      <td>False</td>\n",
       "      <td>0.0</td>\n",
       "      <td>1283.0</td>\n",
       "      <td>371.0</td>\n",
       "      <td>3329.0</td>\n",
       "      <td>193.0</td>\n",
       "      <td>False</td>\n",
       "    </tr>\n",
       "    <tr>\n",
       "      <th>4</th>\n",
       "      <td>Earth</td>\n",
       "      <td>False</td>\n",
       "      <td>F/1/S</td>\n",
       "      <td>TRAPPIST-1e</td>\n",
       "      <td>16.0</td>\n",
       "      <td>False</td>\n",
       "      <td>303.0</td>\n",
       "      <td>70.0</td>\n",
       "      <td>151.0</td>\n",
       "      <td>565.0</td>\n",
       "      <td>2.0</td>\n",
       "      <td>True</td>\n",
       "    </tr>\n",
       "  </tbody>\n",
       "</table>\n",
       "</div>"
      ],
      "text/plain": [
       "  HomePlanet CryoSleep  Cabin  Destination   Age    VIP  RoomService  \\\n",
       "0     Europa     False  B/0/P  TRAPPIST-1e  39.0  False          0.0   \n",
       "1      Earth     False  F/0/S  TRAPPIST-1e  24.0  False        109.0   \n",
       "2     Europa     False  A/0/S  TRAPPIST-1e  58.0   True         43.0   \n",
       "3     Europa     False  A/0/S  TRAPPIST-1e  33.0  False          0.0   \n",
       "4      Earth     False  F/1/S  TRAPPIST-1e  16.0  False        303.0   \n",
       "\n",
       "   FoodCourt  ShoppingMall     Spa  VRDeck  Transported  \n",
       "0        0.0           0.0     0.0     0.0        False  \n",
       "1        9.0          25.0   549.0    44.0         True  \n",
       "2     3576.0           0.0  6715.0    49.0        False  \n",
       "3     1283.0         371.0  3329.0   193.0        False  \n",
       "4       70.0         151.0   565.0     2.0         True  "
      ]
     },
     "execution_count": 5,
     "metadata": {},
     "output_type": "execute_result"
    }
   ],
   "source": [
    "df.drop(['PassengerId','Name'],axis=1,inplace=True)\n",
    "df.head()"
   ]
  },
  {
   "attachments": {},
   "cell_type": "markdown",
   "metadata": {},
   "source": [
    "資料觀察"
   ]
  },
  {
   "cell_type": "code",
   "execution_count": 6,
   "metadata": {},
   "outputs": [
    {
     "name": "stderr",
     "output_type": "stream",
     "text": [
      "<__array_function__ internals>:200: RuntimeWarning: Converting input from bool to <class 'numpy.uint8'> for compatibility.\n",
      "<__array_function__ internals>:200: RuntimeWarning: Converting input from bool to <class 'numpy.uint8'> for compatibility.\n",
      "C:\\Users\\user\\AppData\\Local\\Temp\\ipykernel_22040\\662795131.py:2: FutureWarning: The default value of numeric_only in DataFrameGroupBy.mean is deprecated. In a future version, numeric_only will default to False. Either specify numeric_only or select only columns which should be valid for the function.\n",
      "  df.groupby('Transported').mean()\n"
     ]
    },
    {
     "data": {
      "text/plain": [
       "HomePlanet      False\n",
       "CryoSleep       False\n",
       "Cabin           False\n",
       "Destination     False\n",
       "Age             False\n",
       "VIP             False\n",
       "RoomService     False\n",
       "FoodCourt       False\n",
       "ShoppingMall    False\n",
       "Spa             False\n",
       "VRDeck          False\n",
       "Transported     False\n",
       "dtype: bool"
      ]
     },
     "execution_count": 6,
     "metadata": {},
     "output_type": "execute_result"
    },
    {
     "data": {
      "image/png": "[encoded data removed]",
      "text/plain": [
       "<Figure size 500x500 with 6 Axes>"
      ]
     },
     "metadata": {},
     "output_type": "display_data"
    }
   ],
   "source": [
    "sns.pairplot(df[['Transported','VIP']],dropna=True)\n",
    "df.groupby('Transported').mean()\n",
    "df['CryoSleep'].value_counts()\n",
    "df['VIP'].value_counts()\n",
    "df['HomePlanet'].value_counts()\n",
    "df['Destination'].value_counts()\n",
    "\n",
    "df.isnull().sum()\n",
    "len(df)/2\n",
    "df.isnull().sum()>(len(df)/2)"
   ]
  },
  {
   "attachments": {},
   "cell_type": "markdown",
   "metadata": {},
   "source": [
    "將遺失的資料補齊"
   ]
  },
  {
   "cell_type": "code",
   "execution_count": null,
   "metadata": {},
   "outputs": [],
   "source": [
    "df['HomePlanet'].unique().tolist()\n",
    "df['HomePlanet']=df['HomePlanet'].replace({'Europa':0, 'Earth':1, 'Mars':1})\n",
    "df['HomePlanet'].value_counts()\n",
    "\n",
    "df['Destination'].unique().tolist()\n",
    "df['Destination']=df['Destination'].replace({'TRAPPIST-1e':0, 'PSO J318.5-22':1, '55 Cancri e':2})\n",
    "df['Destination'].value_counts()\n",
    "\n",
    "df['Age'].isnull().value_counts()\n",
    "df['Age'].unique()\n",
    "index_Transported = (df[\"Age\"].isnull()==False)&(df[\"Transported\"]==1)\n",
    "index_distransported = (df[\"Age\"].isnull()==False)&(df[\"Transported\"]==0)\n",
    "sns.distplot( df.loc[index_Transported ,'Age'], bins=20, color='blue', label='Transported' )\n",
    "sns.distplot( df.loc[index_distransported ,'Age'], bins=20, color='red', label='Transported' )\n",
    "df.groupby('Transported')['Age'].median()\n",
    "\n",
    "df[['VIP', 'Transported']].groupby(['VIP'], as_index=False).mean().sort_values(by='Transported', ascending=False)\n",
    "df[['CryoSleep', 'VIP','Transported']] = (df[['CryoSleep', 'VIP','Transported']] == True).astype(int)\n",
    "df.tail()\n",
    "\n",
    "df[['Deck', 'num','side']] = df['Cabin'].str.split('/', expand=True)\n",
    "df=df.drop(['Cabin'],axis=1)\n",
    "df.head() \n",
    "df.nunique().sort_values(ascending=False)\n",
    "df['Deck'].value_counts()\n",
    "df['Deck'].unique().tolist()\n",
    "df['Deck']=df['Deck'].replace({'A':0, 'B':1, 'C':2, 'D':3, 'E':4, 'F':5, 'G':6, 'T':7})\n",
    "df['Deck'].value_counts()\n",
    "\n",
    "df['side'].unique().tolist()\n",
    "df['side']=df['side'].replace({'P':0, 'S':1})\n",
    "df['side'].value_counts()\n",
    "df['side']=df['Deck'].replace({'P':0, 'S':1})\n",
    "df['side'].value_counts()\n",
    "\n",
    "nulls = pd.DataFrame(df.isnull().sum().sort_values(ascending=False)[:25])\n",
    "nulls.columns = ['Null Count']\n",
    "nulls.index.name = 'Feature'\n",
    "nulls\n",
    "\n",
    "df = df.select_dtypes(include=[np.number]).interpolate().dropna()\n",
    "\n",
    "sum(df.isnull().sum() != 0)\n",
    "\n",
    "df.isnull().sum()"
   ]
  },
  {
   "attachments": {},
   "cell_type": "markdown",
   "metadata": {},
   "source": [
    "資料分析"
   ]
  },
  {
   "cell_type": "code",
   "execution_count": null,
   "metadata": {},
   "outputs": [],
   "source": [
    "df.head()\n",
    "df.info()\n",
    "\n",
    "df.corr()\n",
    "\n",
    "X = df.drop(\"Transported\",axis=1)\n",
    "y = df[\"Transported\"]\n",
    "\n",
    "\n",
    "from sklearn.model_selection import train_test_split\n",
    "\n",
    "X_train, X_test, y_train, y_test = train_test_split(X, y, test_size=0.3, random_state=2)\n",
    "print(y.shape)\n",
    "print(X.shape, X_train.shape, X_test.shape)\n",
    "from sklearn.linear_model import LogisticRegression\n",
    "\n",
    "lr= LogisticRegression(max_iter=150)\n",
    "\n",
    "lr.fit(X_train, y_train)\n",
    "\n",
    "predictions=lr.predict(X_test)\n",
    "\n",
    "from sklearn.metrics import confusion_matrix, accuracy_score, recall_score, precision_score\n",
    "\n",
    "accuracy_score(y_test,predictions)\n",
    "recall_score(y_test,predictions)\n",
    "precision_score(y_test,predictions)\n",
    "confusion_matrix(y_test,predictions)\n",
    "pd.DataFrame(confusion_matrix(y_test,predictions),columns=['distransported', 'transported'],index=['distransported','transported'])\n",
    "\n",
    "import joblib  \n",
    "joblib.dump(lr,'Space_Titanic-LR1.pkl',compress=3)"
   ]
  },
  {
   "attachments": {},
   "cell_type": "markdown",
   "metadata": {},
   "source": [
    "將test資料集放入，並得出比賽所需之結果"
   ]
  },
  {
   "cell_type": "code",
   "execution_count": null,
   "metadata": {},
   "outputs": [],
   "source": [
    "import joblib\n",
    "model_pretrained=joblib.load('Space_Titanic-LR1.pkl')\n",
    "import pandas as pd\n",
    "import numpy as np\n",
    "import matplotlib.pyplot as plt\n",
    "df_test=pd.read_csv(\"test.csv\")\n",
    "\n",
    "\n",
    "df_test['HomePlanet']=df_test['HomePlanet'].replace({'Europa':0, 'Earth':1, 'Mars':1})\n",
    "df_test['HomePlanet'].fillna(df_test['HomePlanet'].mode()[0],inplace = True)\n",
    "df_test['HomePlanet'].value_counts()\n",
    "\n",
    "df_test['Destination']=df_test['Destination'].replace({'TRAPPIST-1e':0, 'PSO J318.5-22':1, '55 Cancri e':2})\n",
    "df_test['Destination'].value_counts()\n",
    "\n",
    "df_test['Age'].fillna(df_test['Age'].mode()[0],inplace=True)\n",
    "df_test['FoodCourt'].fillna(df_test['FoodCourt'].mode()[0],inplace = True)\n",
    "df_test['ShoppingMall'].fillna(df_test['ShoppingMall'].mode()[0],inplace = True)\n",
    "df_test['Spa'].fillna(df_test['Spa'].mode()[0], inplace = True)\n",
    "df_test['VRDeck'].fillna(df_test['VRDeck'].mode()[0], inplace = True)\n",
    "df_test.isnull().sum()\n",
    "df_test[['CryoSleep', 'VIP']] = (df_test[['CryoSleep', 'VIP']] == True).astype(int)\n",
    "df_test[['Deck', 'num','side']] = df_test['Cabin'].str.split('/', expand=True)\n",
    "df_test=df_test.drop(['Cabin'],axis=1)\n",
    "df_test.head()\n",
    "\n",
    "df_test['Deck']=df_test['Deck'].replace({'A':0, 'B':1, 'C':2, 'D':3, 'E':4, 'F':5, 'G':6, 'T':7})\n",
    "df_test['Deck'].value_counts()\n",
    "df_test['side']=df_test['side'].replace({'P':0, 'S':1})\n",
    "df_test['side'].value_counts()\n",
    "df_test['side']=df_test['Deck'].replace({'P':0, 'S':1})\n",
    "df_test['side'].value_counts()\n",
    "\n",
    "nulls = pd.DataFrame(df_test.isnull().sum().sort_values(ascending=False)[:25])\n",
    "nulls.columns = ['Null Count']\n",
    "nulls.index.name = 'Feature'\n",
    "nulls\n",
    "\n",
    "df_test.isnull().sum()\n",
    "\n",
    "df_test['RoomService'].fillna(df_test['RoomService'].mode()[0], inplace = True)\n",
    "\n",
    "df_test.isnull().sum()\n",
    "\n",
    "X = df.drop(\"Transported\",axis=1)\n",
    "y = df[\"Transported\"]\n",
    "passengers=df_test['PassengerId']\n",
    "final=pd.DataFrame(data=(passengers),columns=['PassengerId'])\n",
    "final.loc[:,\"Transported\"]=y_test\n",
    "final.head(20)\n",
    "final['Transported'].value_counts()\n",
    "final.to_csv('submission.csv',index=False)\n",
    "sub=pd.read_csv('./submission.csv')\n",
    "sub.Transported.astype(bool)\n",
    "\n",
    "sub['Transported'].value_counts()\n",
    "sub['Transported'].isnull().sum()\n",
    "sub['Transported'].fillna(sub['Transported'].mode()[0], inplace = True)\n",
    "\n",
    "sub.to_csv(\"submission.csv\",index=False)"
   ]
  }
 ],
 "metadata": {
  "kernelspec": {
   "display_name": "Python 3",
   "language": "python",
   "name": "python3"
  },
  "language_info": {
   "codemirror_mode": {
    "name": "ipython",
    "version": 3
   },
   "file_extension": ".py",
   "mimetype": "text/x-python",
   "name": "python",
   "nbconvert_exporter": "python",
   "pygments_lexer": "ipython3",
   "version": "3.9.13"
  },
  "orig_nbformat": 4
 },
 "nbformat": 4,
 "nbformat_minor": 2
}
